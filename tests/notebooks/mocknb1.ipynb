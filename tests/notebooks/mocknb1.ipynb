{
 "metadata": {
  "name": "",
  "signature": "sha256:708f5c50eb38bddbf0b2fcb723cf8f5f4d1f6f03580f62f18e3049d84d73b4ea"
 },
 "nbformat": 3,
 "nbformat_minor": 0,
 "worksheets": [
  {
   "cells": [
    {
     "cell_type": "markdown",
     "metadata": {},
     "source": [
      "# This is a test notebook."
     ]
    },
    {
     "cell_type": "code",
     "collapsed": false,
     "input": [
      "# This is a comment in the first input cell.\n",
      "my_str = \" \".join([\"This is\",\"an output cell.\"])\n",
      "my_str"
     ],
     "language": "python",
     "metadata": {},
     "outputs": []
    },
    {
     "cell_type": "code",
     "collapsed": false,
     "input": [
      "print \"This is \" + \"printed output.\""
     ],
     "language": "python",
     "metadata": {},
     "outputs": []
    },
    {
     "cell_type": "markdown",
     "metadata": {},
     "source": [
      "* And, this is a markdown list item."
     ]
    },
    {
     "cell_type": "code",
     "collapsed": false,
     "input": [],
     "language": "python",
     "metadata": {},
     "outputs": []
    }
   ],
   "metadata": {}
  }
 ]
}